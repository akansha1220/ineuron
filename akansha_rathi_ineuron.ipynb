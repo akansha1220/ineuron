{
  "nbformat": 4,
  "nbformat_minor": 0,
  "metadata": {
    "colab": {
      "name": "akansha rathi/ineuron.ipynb",
      "provenance": [],
      "collapsed_sections": []
    },
    "kernelspec": {
      "name": "python3",
      "display_name": "Python 3"
    }
  },
  "cells": [
    {
      "cell_type": "code",
      "metadata": {
        "id": "fPyaA561_c1e",
        "colab_type": "code",
        "colab": {
          "base_uri": "https://localhost:8080/",
          "height": 54
        },
        "outputId": "97af56d4-2911-4bd5-c1d2-3e98099b6145"
      },
      "source": [
        "#PROGRAM TO FIND THE NUMBERS WHICH IS DEVISIBLE BY 7 BUT NOT A MULTIPLE OF 5 BETWEEN 2000 TO 3200\")\n",
        "C=[]\n",
        "for i in range(2000,3201):\n",
        "  if i%7==0 and i%5!=0:\n",
        "    C.append(i)\n",
        "\n",
        "print(C)\n"
      ],
      "execution_count": 2,
      "outputs": [
        {
          "output_type": "stream",
          "text": [
            "[2002, 2009, 2016, 2023, 2037, 2044, 2051, 2058, 2072, 2079, 2086, 2093, 2107, 2114, 2121, 2128, 2142, 2149, 2156, 2163, 2177, 2184, 2191, 2198, 2212, 2219, 2226, 2233, 2247, 2254, 2261, 2268, 2282, 2289, 2296, 2303, 2317, 2324, 2331, 2338, 2352, 2359, 2366, 2373, 2387, 2394, 2401, 2408, 2422, 2429, 2436, 2443, 2457, 2464, 2471, 2478, 2492, 2499, 2506, 2513, 2527, 2534, 2541, 2548, 2562, 2569, 2576, 2583, 2597, 2604, 2611, 2618, 2632, 2639, 2646, 2653, 2667, 2674, 2681, 2688, 2702, 2709, 2716, 2723, 2737, 2744, 2751, 2758, 2772, 2779, 2786, 2793, 2807, 2814, 2821, 2828, 2842, 2849, 2856, 2863, 2877, 2884, 2891, 2898, 2912, 2919, 2926, 2933, 2947, 2954, 2961, 2968, 2982, 2989, 2996, 3003, 3017, 3024, 3031, 3038, 3052, 3059, 3066, 3073, 3087, 3094, 3101, 3108, 3122, 3129, 3136, 3143, 3157, 3164, 3171, 3178, 3192, 3199]\n"
          ],
          "name": "stdout"
        }
      ]
    },
    {
      "cell_type": "code",
      "metadata": {
        "id": "jLCRhqPQDn14",
        "colab_type": "code",
        "colab": {
          "base_uri": "https://localhost:8080/",
          "height": 68
        },
        "outputId": "e9dcad2e-f70d-4306-f3c0-833dbf5c455e"
      },
      "source": [
        "#PROGRAM TO ACCEPT THE USER'S FIRST AND LAST NAMEAND THEN GTTING THEM PRINTED INTHE REVERS ORDER WITH A SPACE\n",
        "name=input(\"Enter The Full Name\")\n",
        "print(\"The Entered Name is : \",name)\n",
        "T=name.split(\" \")\n",
        "s=T[1]+\" \"+T[0]\n",
        "print(\"After Swapping : \",s)\n"
      ],
      "execution_count": 1,
      "outputs": [
        {
          "output_type": "stream",
          "text": [
            "Enter The Full NameAkansha Rathi\n",
            "The Entered Name is :  Akansha Rathi\n",
            "After Swapping :  Rathi Akansha\n"
          ],
          "name": "stdout"
        }
      ]
    },
    {
      "cell_type": "code",
      "metadata": {
        "id": "xYWJcwZhE5C2",
        "colab_type": "code",
        "colab": {
          "base_uri": "https://localhost:8080/",
          "height": 34
        },
        "outputId": "8d015ed3-c739-45ae-ab75-b3c6ea74183e"
      },
      "source": [
        "#Program To find the volume of the sphere\n",
        "\n",
        "d=12\n",
        "r=d/2\n",
        "pi=22/7\n",
        "V=4/3*pi*pow(r,3)\n",
        "\n",
        "print(\"Volume Of the Sphere\",V)\n"
      ],
      "execution_count": 2,
      "outputs": [
        {
          "output_type": "stream",
          "text": [
            "Volume Of the Sphere 905.142857142857\n"
          ],
          "name": "stdout"
        }
      ]
    },
    {
      "cell_type": "code",
      "metadata": {
        "id": "wHMTFcstFWFU",
        "colab_type": "code",
        "colab": {
          "base_uri": "https://localhost:8080/",
          "height": 51
        },
        "outputId": "a5ebe138-5247-4b1c-bcb0-d2ca2733dccf"
      },
      "source": [
        "#TASK2\n",
        "#PROGRAM WHICH ACCEPT A SEQUENCE OF COMMA-SEPRATED NUMBERS FROM CONSOLE AND GENERATE A LIST\n",
        "t=input(\"Enter a comma seperated sequence\")\n",
        "t\n",
        "c=[]\n",
        "for i in t:\n",
        "    if i!=\",\":\n",
        "        c.append(int(i))\n",
        "print(c)        "
      ],
      "execution_count": 3,
      "outputs": [
        {
          "output_type": "stream",
          "text": [
            "Enter a comma seperated sequence1,5,3,2,5,7,8,9\n",
            "[1, 5, 3, 2, 5, 7, 8, 9]\n"
          ],
          "name": "stdout"
        }
      ]
    },
    {
      "cell_type": "code",
      "metadata": {
        "id": "ce07O1_oF2bn",
        "colab_type": "code",
        "colab": {
          "base_uri": "https://localhost:8080/",
          "height": 187
        },
        "outputId": "5ae7a1ef-7b85-44d3-c1a5-fe5c13c6dfc6"
      },
      "source": [
        "#\"Program To Print A Pattern\"\n",
        "n=5    #number of line\n",
        "\n",
        "for i in range(n):\n",
        "    for j in range(i):\n",
        "        print(\"*\",end=\"\")\n",
        "    print(\"\")\n",
        "    \n",
        "for i in range(n):\n",
        "    for j in range(n-i):\n",
        "        print(\"*\",end=\"\")\n",
        "    print(\"\")  "
      ],
      "execution_count": 6,
      "outputs": [
        {
          "output_type": "stream",
          "text": [
            "\n",
            "*\n",
            "**\n",
            "***\n",
            "****\n",
            "*****\n",
            "****\n",
            "***\n",
            "**\n",
            "*\n"
          ],
          "name": "stdout"
        }
      ]
    },
    {
      "cell_type": "code",
      "metadata": {
        "id": "af4Jf--1GJ94",
        "colab_type": "code",
        "colab": {
          "base_uri": "https://localhost:8080/",
          "height": 68
        },
        "outputId": "03671291-63b4-4965-90b1-4648779f28b8"
      },
      "source": [
        "#\"Program To Reverse A String\")\n",
        "st=input(\"Enter The String : \")\n",
        "st\n",
        "print(\"Revese OF The Entered String \")\n",
        "S=\"\"\n",
        "L=len(st)\n",
        "S=st[L-1: :-1]\n",
        "print(S)"
      ],
      "execution_count": 8,
      "outputs": [
        {
          "output_type": "stream",
          "text": [
            "Enter The String : ArndcsveDRG\n",
            "Revese OF The Entered String \n",
            "GRDevscdnrA\n"
          ],
          "name": "stdout"
        }
      ]
    },
    {
      "cell_type": "code",
      "metadata": {
        "id": "2fp9dZwzGthU",
        "colab_type": "code",
        "colab": {
          "base_uri": "https://localhost:8080/",
          "height": 85
        },
        "outputId": "9872fb75-ff19-4290-ab6e-99c81ac62cbb"
      },
      "source": [
        "#ques4\n",
        "print(\"WE,THE PEOPLE OF INDIA,\")\n",
        "print(\"\\t having solemnly resolved to constitute India into a SOVEREIGN,!\")\n",
        "print(\"\\t\\t SOCIALIST,SECULAR,DEMOCRATIC REPUBLIC\")\n",
        "print(\"\\t\\t  and to secure to all its citizens\")\n"
      ],
      "execution_count": 10,
      "outputs": [
        {
          "output_type": "stream",
          "text": [
            "WE,THE PEOPLE OF INDIA,\n",
            "\t having solemnly resolved to constitute India into a SOVEREIGN,!\n",
            "\t\t SOCIALIST,SECULAR,DEMOCRATIC REPUBLIC\n",
            "\t\t  and to secure to all its citizens\n"
          ],
          "name": "stdout"
        }
      ]
    }
  ]
}